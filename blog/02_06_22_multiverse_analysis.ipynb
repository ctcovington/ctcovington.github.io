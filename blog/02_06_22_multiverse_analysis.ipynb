{
 "cells": [
  {
   "cell_type": "markdown",
   "metadata": {},
   "source": [
    "# (Slightly) Toward a Principled Foundation for Multiverse Analysis"
   ]
  },
  {
   "cell_type": "markdown",
   "metadata": {},
   "source": [
    "Consider a research question of interest, like \"What is the causal effect of education on wages?\".\n",
    "To study this quantitatively, an analyst will need to gather (or otherwise ascertain) data, clean the data, specify a model or models, and run the analysis. Each of these steps will present the analyst with non-obvious choices.\n",
    "What if the data contain responses that do not appear, by some criterion, to follow the data-generating process of interest?\n",
    "How ought the question of interest be represented in a statistical model? If there are multiple operationalizations of a single construct, how should the analyst choose between them?\n",
    "\n",
    "Traditionally, the full scope of these choices is not typically made clear in a published work. Perhaps some small set of them are presented as sensitivity checks (e.g. demonstrated robustness across models with different covariates included), others might be hidden in the code (e.g. a decision to drop points based on a particular exclusion criterion), and still others may represented only in the minds of the researchers.\n",
    "\n",
    "Imagine examining an analysis that contains many such choices; how should you evaluate it? \n",
    "For starters, it can be difficult to determine the extent to which a set of choices is reasonable. \n",
    "More importantly though, the examiner may not have a way to verify how the analyst came to the \n",
    "set of choices they made. Are the particular choices they made standard in their field? \n",
    "Was it the first set they came up with or did they try different analyses until getting results they liked?\n",
    "How might the results have changed if slightly different decisions were made?\n",
    "Not having good answers to these questions can make it difficult to trust the results of an analysis.\n",
    "\n",
    "Enter Multiverse-Style analyses (MS analyses), a catch-all term we'll use for the ideas presented in\n",
    "[PBI15](https://www.ncbi.nlm.nih.gov/pmc/articles/PMC4555355/), [STGV16](https://journals.sagepub.com/doi/pdf/10.1177/1745691616658637), [YH17](http://fmwww.bc.edu/repec/bocode/m/Model_Uncertainty_and_Robustness.pdf), and [SSN20](http://urisohn.com/sohn_files/wp/wordpress/wp-content/uploads/specification-curve-published-hand-corrected.pdf). The high-level idea beyond these works is to bring analytic uncertainty to the forefront by reporting the results of every \"reasonable analytic specification\". Each paper considers their own dimensions across which decisions are allowed to differ, but we'll ignore this as our goals lie elsewhere.\n",
    "\n"
   ]
  },
  {
   "cell_type": "markdown",
   "metadata": {},
   "source": []
  }
 ],
 "metadata": {
  "language_info": {
   "name": "plaintext"
  },
  "orig_nbformat": 4
 },
 "nbformat": 4,
 "nbformat_minor": 2
}
